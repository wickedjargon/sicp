{
 "cells": [
  {
   "cell_type": "markdown",
   "id": "623f97ab",
   "metadata": {},
   "source": [
    "# Exercise 1.1"
   ]
  },
  {
   "cell_type": "code",
   "execution_count": 1,
   "id": "63178b53",
   "metadata": {
    "vscode": {
     "languageId": "racket"
    }
   },
   "outputs": [
    {
     "data": {
      "text/html": [
       "<code>10</code>"
      ],
      "text/plain": [
       "10"
      ]
     },
     "execution_count": 1,
     "metadata": {},
     "output_type": "execute_result"
    }
   ],
   "source": [
    "10"
   ]
  },
  {
   "cell_type": "code",
   "execution_count": 2,
   "id": "c23ac2f5",
   "metadata": {
    "vscode": {
     "languageId": "racket"
    }
   },
   "outputs": [
    {
     "data": {
      "text/html": [
       "<code>12</code>"
      ],
      "text/plain": [
       "12"
      ]
     },
     "execution_count": 2,
     "metadata": {},
     "output_type": "execute_result"
    }
   ],
   "source": [
    "(+ 5 3 4)    "
   ]
  },
  {
   "cell_type": "code",
   "execution_count": 3,
   "id": "8634e7c5",
   "metadata": {
    "vscode": {
     "languageId": "racket"
    }
   },
   "outputs": [
    {
     "data": {
      "text/html": [
       "<code>3</code>"
      ],
      "text/plain": [
       "3"
      ]
     },
     "execution_count": 3,
     "metadata": {},
     "output_type": "execute_result"
    }
   ],
   "source": [
    "(/ 6 2)"
   ]
  },
  {
   "cell_type": "code",
   "execution_count": 4,
   "id": "32d40464",
   "metadata": {
    "vscode": {
     "languageId": "racket"
    }
   },
   "outputs": [
    {
     "data": {
      "text/html": [
       "<code>6</code>"
      ],
      "text/plain": [
       "6"
      ]
     },
     "execution_count": 4,
     "metadata": {},
     "output_type": "execute_result"
    }
   ],
   "source": [
    "(+ (* 2 4) (- 4 6))"
   ]
  },
  {
   "cell_type": "code",
   "execution_count": 5,
   "id": "c44c2d82",
   "metadata": {
    "vscode": {
     "languageId": "racket"
    }
   },
   "outputs": [],
   "source": [
    "(define a 3)\n",
    "(define b (+ a 1))"
   ]
  },
  {
   "cell_type": "code",
   "execution_count": 6,
   "id": "6cc6da67",
   "metadata": {
    "vscode": {
     "languageId": "racket"
    }
   },
   "outputs": [
    {
     "data": {
      "text/html": [
       "<code>19</code>"
      ],
      "text/plain": [
       "19"
      ]
     },
     "execution_count": 6,
     "metadata": {},
     "output_type": "execute_result"
    }
   ],
   "source": [
    "(+ a b (* a b))"
   ]
  },
  {
   "cell_type": "code",
   "execution_count": 7,
   "id": "7eb82996",
   "metadata": {
    "vscode": {
     "languageId": "racket"
    }
   },
   "outputs": [
    {
     "data": {
      "text/html": [
       "<code>#f</code>"
      ],
      "text/plain": [
       "#f"
      ]
     },
     "execution_count": 7,
     "metadata": {},
     "output_type": "execute_result"
    }
   ],
   "source": [
    "(= a b)"
   ]
  },
  {
   "cell_type": "code",
   "execution_count": 8,
   "id": "6728fdf3",
   "metadata": {
    "vscode": {
     "languageId": "racket"
    }
   },
   "outputs": [
    {
     "data": {
      "text/html": [
       "<code>3</code>"
      ],
      "text/plain": [
       "3"
      ]
     },
     "execution_count": 8,
     "metadata": {},
     "output_type": "execute_result"
    }
   ],
   "source": [
    "(if (and (> b a) (< b (* a b)))\n",
    "    a\n",
    "    b)"
   ]
  },
  {
   "cell_type": "code",
   "execution_count": 9,
   "id": "be500bd2",
   "metadata": {
    "vscode": {
     "languageId": "racket"
    }
   },
   "outputs": [
    {
     "data": {
      "text/html": [
       "<code>16</code>"
      ],
      "text/plain": [
       "16"
      ]
     },
     "execution_count": 9,
     "metadata": {},
     "output_type": "execute_result"
    }
   ],
   "source": [
    "(cond ((= a 4) 6)\n",
    "      ((= b 4) (+ 6 7 a))\n",
    "      (else 25))"
   ]
  },
  {
   "cell_type": "code",
   "execution_count": 10,
   "id": "e1c669cf",
   "metadata": {
    "vscode": {
     "languageId": "racket"
    }
   },
   "outputs": [
    {
     "data": {
      "text/html": [
       "<code>6</code>"
      ],
      "text/plain": [
       "6"
      ]
     },
     "execution_count": 10,
     "metadata": {},
     "output_type": "execute_result"
    }
   ],
   "source": [
    "(+ 2 (if (> b a) b a))"
   ]
  },
  {
   "cell_type": "code",
   "execution_count": 11,
   "id": "8d55b546",
   "metadata": {
    "vscode": {
     "languageId": "racket"
    }
   },
   "outputs": [
    {
     "data": {
      "text/html": [
       "<code>16</code>"
      ],
      "text/plain": [
       "16"
      ]
     },
     "execution_count": 11,
     "metadata": {},
     "output_type": "execute_result"
    }
   ],
   "source": [
    "(* (cond ((> a b) a)\n",
    "         ((< a b) b)\n",
    "         (else -))\n",
    "   (+ a 1))"
   ]
  },
  {
   "cell_type": "markdown",
   "id": "ceb72b6a",
   "metadata": {},
   "source": [
    "# Exercise 1.2"
   ]
  },
  {
   "cell_type": "code",
   "execution_count": 12,
   "id": "fdae1d48",
   "metadata": {
    "vscode": {
     "languageId": "racket"
    }
   },
   "outputs": [
    {
     "data": {
      "text/html": [
       "<code>-60</code>"
      ],
      "text/plain": [
       "-60"
      ]
     },
     "execution_count": 12,
     "metadata": {},
     "output_type": "execute_result"
    }
   ],
   "source": [
    "(+ 5 4 (- 2 (- 3 (+ 6 4/5)))) / (* 3 (- 6 2) (- 2 7))"
   ]
  },
  {
   "cell_type": "markdown",
   "id": "a56a8606",
   "metadata": {},
   "source": [
    "# Exercise 1.3"
   ]
  },
  {
   "cell_type": "code",
   "execution_count": 13,
   "id": "bfe2172b",
   "metadata": {
    "vscode": {
     "languageId": "racket"
    }
   },
   "outputs": [
    {
     "data": {
      "text/html": [
       "<code>1300</code>"
      ],
      "text/plain": [
       "1300"
      ]
     },
     "execution_count": 13,
     "metadata": {},
     "output_type": "execute_result"
    }
   ],
   "source": [
    "(define square\n",
    "  (lambda (x)\n",
    "    (* x x)))\n",
    "\n",
    "(define sum-of-squares-of-two-largest \n",
    "  (lambda (x y z)\n",
    "    (cond \n",
    "     [[and (> y x) (> z x)] [+ (square y) (square z)]]\n",
    "     [[and (> x y) (> z y)] [+ (square x) (square z)]]\n",
    "     [[and (> x z) (> y z)] [+ (square x) (square y)]]\n",
    "     )))\n",
    "\n",
    "\n",
    "\n",
    "(sum-of-squares-of-two-largest 10 20 30)"
   ]
  },
  {
   "cell_type": "markdown",
   "id": "f926c09c",
   "metadata": {},
   "source": [
    "This solution also works only within drracket\n",
    "```lisp\n",
    "#lang racket\n",
    "(require threading)\t\n",
    "\n",
    "(define (sum-square-two-largest lst)\n",
    "  (~> lst\n",
    "      (sort >)\n",
    "      (take 2)\n",
    "      (map (λ (x) (* x x)) _)\n",
    "      (foldl + 0 _)))\n",
    "\n",
    "```"
   ]
  },
  {
   "cell_type": "markdown",
   "id": "e6767f2e",
   "metadata": {},
   "source": [
    "# Exercise 1.4"
   ]
  },
  {
   "cell_type": "code",
   "execution_count": 14,
   "id": "9a4b6bf1",
   "metadata": {
    "vscode": {
     "languageId": "racket"
    }
   },
   "outputs": [],
   "source": [
    "(define a-plus-abs-b\n",
    "  (lambda (a b)\n",
    "    ((if (> b 0) + -) a b)))"
   ]
  },
  {
   "cell_type": "markdown",
   "id": "3c97eda8",
   "metadata": {},
   "source": [
    "The last list returns either `+` or `-` procedure depending on whether b is positive or not."
   ]
  },
  {
   "cell_type": "code",
   "execution_count": 15,
   "id": "068ccb8d",
   "metadata": {
    "vscode": {
     "languageId": "racket"
    }
   },
   "outputs": [],
   "source": [
    ";; infinite loop, don't run!:\n",
    "\n",
    "; (define (p) (p))\n",
    "; (define (test x y)\n",
    ";   (if (= x 0) 0 y))\n",
    "; (test 0 (p))"
   ]
  },
  {
   "cell_type": "markdown",
   "id": "7ecdaa2f",
   "metadata": {},
   "source": [
    "In applicative order this would be an infinite loop as arguments `0` and `(p)` would be evaluated first before applying tem to the procedure `test`. In normal order, `(p)` would not be evaluated until it was needed. The arguments would be sent to function `test` unevaluated and would return `0`."
   ]
  },
  {
   "cell_type": "markdown",
   "id": "a91d0c66",
   "metadata": {},
   "source": [
    "# Square Roots by Newton's Method"
   ]
  },
  {
   "cell_type": "code",
   "execution_count": 16,
   "id": "21353d78",
   "metadata": {
    "vscode": {
     "languageId": "racket"
    }
   },
   "outputs": [
    {
     "name": "stderr",
     "output_type": "stream",
     "text": [
      "sqrt: arity mismatch;\n",
      " the expected number of arguments does not match the given number\n",
      "  expected: 1\n",
      "  given: 2\n",
      "  context...:\n",
      "   eval:10:2: body of top-level\n"
     ]
    }
   ],
   "source": [
    "(define good-enough?\n",
    "  (lambda (guess x)\n",
    "    (< (abs (- (square guess) x)) 0.001)))\n",
    "\n",
    "(define improve\n",
    "  (lambda (guess x)\n",
    "    (/ (+ (/ x guess)  guess) 2)))\n",
    " \n",
    "(define sqrt\n",
    "  (lambda (guess x)\n",
    "    (if (good-enough? guess x)\n",
    "        guess\n",
    "        (sqrt (improve guess x) x))))\n",
    "\n",
    "\n",
    "(sqrt 1.0 0.0000000001)"
   ]
  },
  {
   "cell_type": "markdown",
   "id": "54e8fb5d",
   "metadata": {},
   "source": [
    "# Exercise 1.6"
   ]
  },
  {
   "cell_type": "markdown",
   "id": "dca122ab",
   "metadata": {},
   "source": [
    "This will cause an infinite evaluation. The new if requires all operands to be evaluated first before being applied to the procedure. This means that all all three of these: `predicate`, `then-clause`, `else-clause` will be evaluated. This is not good because we only want `then-clause` and `else-clause` to be evaluated conditionally. This is why `if` and `cond` are both special form. They don't use the normal applective-order. \n",
    "\n",
    "Once `(good-enough? guess x)` evaluates to `#t`, we don't want to continue evaluating the `else-clause` which is `(sqrt-ter (improve guess x) x))`.  The `new-if` definition will cause an infiinite recurssion."
   ]
  },
  {
   "cell_type": "markdown",
   "id": "07a23fb2",
   "metadata": {},
   "source": [
    "# Exercise 1.7"
   ]
  },
  {
   "cell_type": "markdown",
   "id": "999491d5",
   "metadata": {},
   "source": [
    "`good-enough?` uses the difference between the square of guess compared to the x. An imporvement would to compare the old guess with the new guess. When the difference between the very low, the base case should be executed. Here's an improvement "
   ]
  },
  {
   "cell_type": "code",
   "execution_count": 17,
   "id": "5816dd8c",
   "metadata": {
    "vscode": {
     "languageId": "racket"
    }
   },
   "outputs": [],
   "source": [
    "(define (good-enough? previous-guess guess)\n",
    "  (< (abs (/ (- guess previous-guess) guess)) 0.00000000001))\n",
    "\n",
    "(define (sqrt guess x)\n",
    "  (if (good-enough? guess (improve guess x))\n",
    "      guess\n",
    "      (sqrt (improve guess x) x)))"
   ]
  },
  {
   "cell_type": "markdown",
   "id": "c6effd0f",
   "metadata": {},
   "source": [
    "# Exercise 1.8"
   ]
  },
  {
   "cell_type": "code",
   "execution_count": 18,
   "id": "5f71df88",
   "metadata": {
    "vscode": {
     "languageId": "racket"
    }
   },
   "outputs": [
    {
     "data": {
      "text/html": [
       "<code>12.0</code>"
      ],
      "text/plain": [
       "12.0"
      ]
     },
     "execution_count": 18,
     "metadata": {},
     "output_type": "execute_result"
    }
   ],
   "source": [
    "(define (cube x) (* x x x))\n",
    "\n",
    "(define (good-enough? previous-guess guess)\n",
    "  (< (abs (/ (- guess previous-guess) guess)) 0.00000000001))\n",
    "\n",
    "(define (cube-root-iter guess x)\n",
    "  (if (good-enough? (improve guess x) guess)\n",
    "      guess\n",
    "      (cube-root-iter (improve guess x) x)))\n",
    "\n",
    "(define (improve guess x)\n",
    "  (/ (+ (/ x (* guess guess)) (* 2 guess)) 3))\n",
    "\n",
    "\n",
    "(cube-root-iter 1.0 1728)"
   ]
  },
  {
   "cell_type": "markdown",
   "id": "339855c8",
   "metadata": {},
   "source": [
    "# fibonacci"
   ]
  },
  {
   "cell_type": "code",
   "execution_count": 19,
   "id": "64b1bbc6",
   "metadata": {
    "vscode": {
     "languageId": "racket"
    }
   },
   "outputs": [
    {
     "data": {
      "text/html": [
       "<code>610</code>"
      ],
      "text/plain": [
       "610"
      ]
     },
     "execution_count": 19,
     "metadata": {},
     "output_type": "execute_result"
    }
   ],
   "source": [
    "(define fib\n",
    "  (lambda (x)\n",
    "    (cond\n",
    "     ((= x 0) 0)\n",
    "     ((= x 1) 1)\n",
    "     (else (+ (fib (- x 1)) (fib (- x 2)))))))\n",
    "\n",
    "(fib 15)"
   ]
  },
  {
   "cell_type": "markdown",
   "id": "d4cffd1f",
   "metadata": {},
   "source": [
    "# factorial"
   ]
  },
  {
   "cell_type": "code",
   "execution_count": 20,
   "id": "be529813",
   "metadata": {
    "vscode": {
     "languageId": "racket"
    }
   },
   "outputs": [],
   "source": [
    "(define factorial-linear-recursive\n",
    "  (lambda (x)\n",
    "    (cond\n",
    "     ((= x 0) 1)\n",
    "     (else (* (factorial-linear-recursive (- x 1)) x)))))"
   ]
  },
  {
   "cell_type": "code",
   "execution_count": 21,
   "id": "3f5bbcfe",
   "metadata": {
    "vscode": {
     "languageId": "racket"
    }
   },
   "outputs": [
    {
     "data": {
      "text/html": [
       "<code>3628800</code>"
      ],
      "text/plain": [
       "3628800"
      ]
     },
     "execution_count": 21,
     "metadata": {},
     "output_type": "execute_result"
    }
   ],
   "source": [
    "(factorial-linear-recursive 10)"
   ]
  },
  {
   "cell_type": "code",
   "execution_count": 22,
   "id": "309ddf66",
   "metadata": {
    "vscode": {
     "languageId": "racket"
    }
   },
   "outputs": [
    {
     "data": {
      "text/html": [
       "<code>362880</code>"
      ],
      "text/plain": [
       "362880"
      ]
     },
     "execution_count": 22,
     "metadata": {},
     "output_type": "execute_result"
    }
   ],
   "source": [
    "(define factorial-linear-iterative\n",
    "  (lambda (result counter x)\n",
    "    (cond\n",
    "     ((= counter x) result)\n",
    "     (else (factorial-linear-iterative (* result counter) (+ counter 1) x)))))\n",
    "\n",
    "(factorial-linear-iterative 1 1 10)"
   ]
  },
  {
   "cell_type": "markdown",
   "id": "700afd5a",
   "metadata": {},
   "source": [
    "# Exercise 1.9"
   ]
  },
  {
   "cell_type": "code",
   "execution_count": 23,
   "id": "165699bb",
   "metadata": {
    "vscode": {
     "languageId": "racket"
    }
   },
   "outputs": [
    {
     "data": {
      "text/html": [
       "<code>9</code>"
      ],
      "text/plain": [
       "9"
      ]
     },
     "execution_count": 23,
     "metadata": {},
     "output_type": "execute_result"
    }
   ],
   "source": [
    "(define inc\n",
    "  (lambda (x)\n",
    "    (+ x 1)))\n",
    "\n",
    "(define dec\n",
    "  (lambda (x)\n",
    "    (- x 1)))\n",
    "\n",
    "(define my-plus\n",
    "  (lambda (a b)\n",
    "    (if (= a 0) b (inc (+ (dec a) b)))))\n",
    "\n",
    "(my-plus 4 5)"
   ]
  },
  {
   "cell_type": "markdown",
   "id": "9edc7f8c",
   "metadata": {},
   "source": [
    "```lisp\n",
    "(+ 4 5)\n",
    "(inc (+ 3 5))\n",
    "(inc (inc (+ 2 5)))\n",
    "(inc (inc (inc (+ 1 5))))\n",
    "(inc (inc (inc (inc (+ 0 5)))))\n",
    "(inc (inc (inc (inc 5))))\n",
    "(inc (inc (inc 6)))\n",
    "(inc (inc 7))\n",
    "(inc 8)\n",
    "9\n",
    "```"
   ]
  },
  {
   "cell_type": "code",
   "execution_count": 24,
   "id": "fe451ea3",
   "metadata": {
    "vscode": {
     "languageId": "racket"
    }
   },
   "outputs": [
    {
     "data": {
      "text/html": [
       "<code>9</code>"
      ],
      "text/plain": [
       "9"
      ]
     },
     "execution_count": 24,
     "metadata": {},
     "output_type": "execute_result"
    }
   ],
   "source": [
    "(define (my-plus2 a b)\n",
    "  (if (= a 0) b (+ (dec a) (inc b))))\n",
    "\n",
    "(my-plus2 4 5)"
   ]
  },
  {
   "cell_type": "markdown",
   "id": "ed76e3e0",
   "metadata": {},
   "source": [
    "```lisp\n",
    "(+ 4 5)\n",
    "(+ 3 6)\n",
    "(+ 2 7)\n",
    "(+ 1 8)\n",
    "(+ 0 9)\n",
    "9\n",
    "```"
   ]
  },
  {
   "cell_type": "markdown",
   "id": "de8b4e54",
   "metadata": {},
   "source": [
    "# Exercise 1.10"
   ]
  },
  {
   "cell_type": "code",
   "execution_count": 1,
   "id": "1f73a5cd",
   "metadata": {
    "vscode": {
     "languageId": "racket"
    }
   },
   "outputs": [
    {
     "data": {
      "text/html": [
       "<code>1024</code>"
      ],
      "text/plain": [
       "1024"
      ]
     },
     "execution_count": 1,
     "metadata": {},
     "output_type": "execute_result"
    }
   ],
   "source": [
    "(define A\n",
    "  (lambda (x y)\n",
    "    (cond ((= y 0) 0)\n",
    "          ((= x 0) (* 2 y))\n",
    "          ((= y 1) 2)\n",
    "          (else (A (- x 1) (A x (- y 1)))))))\n",
    "\n",
    "(A 1 10)"
   ]
  },
  {
   "cell_type": "code",
   "execution_count": 2,
   "id": "89e2f67d",
   "metadata": {
    "vscode": {
     "languageId": "racket"
    }
   },
   "outputs": [
    {
     "data": {
      "text/html": [
       "<code>1024</code>"
      ],
      "text/plain": [
       "1024"
      ]
     },
     "execution_count": 2,
     "metadata": {},
     "output_type": "execute_result"
    }
   ],
   "source": [
    ";; x = 1\n",
    ";; y = 10\n",
    ";; else block:\n",
    ";; (A (- x 1) (A x (- y 1)))\n",
    "\n",
    "(A 1 10)\n",
    "(A (- x 1) (A x (- y 1)))\n",
    "(A (- 1 1) (A 1 (- 10 1)))\n",
    "\n",
    "(A 0 (A 1 9))\n",
    "(A 0  (A (- x 1) (A x (- y 1))))\n",
    "(A 0  (A (- 1 1) (A 1 (- 9 1))))\n",
    "\n",
    "(A 0  (A 0 (A 1 8)))\n",
    "(A 0  (A 0   (A (- x 1) (A x (- y 1)))  ))\n",
    "(A 0  (A 0   (A (- 1 1) (A 1 (- 8 1)))  ))\n",
    "\n",
    "(A 0  (A 0   (A 0 (A 1 7) )))\n",
    "(A 0  (A 0   (A 0  (A (- x 1) (A x (- y 1))) )))\n",
    "(A 0  (A 0   (A 0  (A (- 1 1) (A 1 (- 7 1))) )))\n",
    "\n",
    "(A 0 (A 0 (A 0 (A 0 (A 1 6)))))\n",
    "(A 0 (A 0 (A 0 (A 0 (A 0 (A 1 5))))))\n",
    "(A 0 (A 0 (A 0 (A 0 (A 0 (A 0 (A 1 4)))))))\n",
    "(A 0 (A 0 (A 0 (A 0 (A 0 (A 0 (A 0 (A 1 3))))))))\n",
    "(A 0 (A 0 (A 0 (A 0 (A 0 (A 0 (A 0 (A 0 (A 1 2)))))))))\n",
    "(A 0 (A 0 (A 0 (A 0 (A 0 (A 0 (A 0 (A 0 (A 0 (A 1 1))))))))))\n",
    "(A 0 (A 0 (A 0 (A 0 (A 0 (A 0 (A 0 (A 0 (A 0 2)))))))))\n",
    "\n",
    "\n",
    "\n",
    "(A 0 (A 0 (A 0 (A 0 (A 0 (A 0 (A 0 (A 0 (A 0 2)))))))))\n",
    "(A 0 (A 0 (A 0 (A 0 (A 0 (A 0 (A 0 (A 0 4))))))))\n",
    "(A 0 (A 0 (A 0 (A 0 (A 0 (A 0 (A 0 8)))))))\n",
    "(A 0 (A 0 (A 0 (A 0 (A 0 (A 0 16))))))\n",
    "(A 0 (A 0 (A 0 (A 0 (A 0 32)))))\n",
    "(A 0 (A 0 (A 0 (A 0 64))))\n",
    "(A 0 (A 0 (A 0 128)))\n",
    "(A 0 (A 0 256))\n",
    "(A 0 512)\n",
    "1024"
   ]
  },
  {
   "cell_type": "code",
   "execution_count": null,
   "id": "e0a9aa44",
   "metadata": {},
   "outputs": [],
   "source": [
    ";; (define (A x y)\n",
    ";;   (cond ((= y 0) 0)\n",
    ";;         ((= x 0) (* 2 y))\n",
    ";;         ((= y 1) 2)\n",
    ";;         (else (A (- x 1) (A x (- y 1))))))\n",
    "\n",
    "(A 2 4)\n",
    "(A 2 4)"
   ]
  }
 ],
 "metadata": {
  "kernelspec": {
   "display_name": "Racket",
   "language": "racket",
   "name": "racket"
  },
  "language_info": {
   "codemirror_mode": "scheme",
   "file_extension": ".rkt",
   "mimetype": "text/x-racket",
   "name": "Racket",
   "pygments_lexer": "racket",
   "version": "8.8"
  }
 },
 "nbformat": 4,
 "nbformat_minor": 5
}
